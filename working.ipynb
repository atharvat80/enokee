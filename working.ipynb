{
 "cells": [
  {
   "cell_type": "code",
   "execution_count": 1,
   "metadata": {},
   "outputs": [
    {
     "name": "stdout",
     "output_type": "stream",
     "text": [
      "2.0.0+cpu\n"
     ]
    }
   ],
   "source": [
    "from pprint import pprint\n",
    "\n",
    "import torch\n",
    "\n",
    "from src.dataloader import DataLoader\n",
    "from src.model import EnokeeConfig, EnokeeEncoder\n",
    "from src.tokenizer import LUKETokenizer\n",
    "from src.utils import get_num_param_and_model_size\n",
    "\n",
    "print(torch.__version__)"
   ]
  },
  {
   "cell_type": "code",
   "execution_count": 2,
   "metadata": {},
   "outputs": [
    {
     "name": "stderr",
     "output_type": "stream",
     "text": [
      "Some weights of the model checkpoint at roberta-base were not used when initializing RobertaModel: ['lm_head.dense.weight', 'lm_head.dense.bias', 'lm_head.decoder.weight', 'lm_head.layer_norm.weight', 'lm_head.bias', 'lm_head.layer_norm.bias']\n",
      "- This IS expected if you are initializing RobertaModel from the checkpoint of a model trained on another task or with another architecture (e.g. initializing a BertForSequenceClassification model from a BertForPreTraining model).\n",
      "- This IS NOT expected if you are initializing RobertaModel from the checkpoint of a model that you expect to be exactly identical (initializing a BertForSequenceClassification model from a BertForSequenceClassification model).\n"
     ]
    },
    {
     "name": "stdout",
     "output_type": "stream",
     "text": [
      "Total Params           : 145558177\n",
      "Total Trainable Params : 20912545\n",
      "Total Buffers          : 1028\n",
      "Model size             : 555.268MB\n"
     ]
    }
   ],
   "source": [
    "config = EnokeeConfig()\n",
    "model = EnokeeEncoder(config)#.to(dtype=torch.bfloat16)\n",
    "tokenizer = LUKETokenizer()\n",
    "\n",
    "get_num_param_and_model_size(model)"
   ]
  },
  {
   "cell_type": "code",
   "execution_count": 5,
   "metadata": {},
   "outputs": [
    {
     "name": "stdout",
     "output_type": "stream",
     "text": [
      "torch.Size([10, 6, 50000])\n"
     ]
    }
   ],
   "source": [
    "BATCH_SIZE = 10\n",
    "data_loader = DataLoader(\"./data/PELT-corpus.csv.gz\", BATCH_SIZE)\n",
    "\n",
    "for sentences, spans, targets in data_loader:\n",
    "    # Process the data in each batch\n",
    "    # print(\"Batch Samples:\")\n",
    "    # print(sentences[0])\n",
    "    # print(spans[0])\n",
    "    # print(targets[0])\n",
    "\n",
    "    inputs = tokenizer(sentences, spans)\n",
    "    outputs = model(**inputs)\n",
    "\n",
    "    print(outputs.shape)\n",
    "\n",
    "    break"
   ]
  }
 ],
 "metadata": {
  "kernelspec": {
   "display_name": "enokee",
   "language": "python",
   "name": "python3"
  },
  "language_info": {
   "codemirror_mode": {
    "name": "ipython",
    "version": 3
   },
   "file_extension": ".py",
   "mimetype": "text/x-python",
   "name": "python",
   "nbconvert_exporter": "python",
   "pygments_lexer": "ipython3",
   "version": "3.11.3"
  },
  "orig_nbformat": 4
 },
 "nbformat": 4,
 "nbformat_minor": 2
}
